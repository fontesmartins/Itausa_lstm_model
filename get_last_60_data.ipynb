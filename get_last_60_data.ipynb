{
 "cells": [
  {
   "cell_type": "markdown",
   "id": "75777ecd-4d93-4426-9bb6-d8874c79bf0e",
   "metadata": {},
   "source": [
    "# Predict D+1 \n",
    "**Obter os últimos 60 fechamentos**"
   ]
  },
  {
   "cell_type": "code",
   "execution_count": 6,
   "id": "4b3e4e19-eb8a-4f34-a977-8773b6a5ae5f",
   "metadata": {},
   "outputs": [
    {
     "name": "stderr",
     "output_type": "stream",
     "text": [
      "/var/folders/nj/4s1r4fw96xjgpdh27hq9g6xr0000gn/T/ipykernel_26833/1125880911.py:6: FutureWarning: YF.download() has changed argument auto_adjust default to True\n",
      "  df = yf.download(ticker, period=\"90d\")\n",
      "[*********************100%***********************]  1 of 1 completed\n"
     ]
    },
    {
     "name": "stdout",
     "output_type": "stream",
     "text": [
      "{'status': 'error', 'code': 502, 'message': 'Application failed to respond', 'request_id': 'iQm7UQiCSzmtEUTXCx5-qw'}\n"
     ]
    }
   ],
   "source": [
    "import yfinance as yf\n",
    "import requests\n",
    "\n",
    "\n",
    "ticker = \"ITSA4.SA\"\n",
    "df = yf.download(ticker, period=\"90d\")\n",
    "closes = df['Close'].reset_index()[\"ITSA4.SA\"].dropna().to_list()[-60:]\n",
    "\n",
    "### Enviar para a API\n",
    "response = requests.post(\"https://itausalstmmodel-production.up.railway.app/predict7\", json={\"closes\": closes})\n",
    "print(response.json())\n"
   ]
  },
  {
   "cell_type": "code",
   "execution_count": null,
   "id": "a9430d66-6ae7-4866-9f40-aae33b4787dc",
   "metadata": {},
   "outputs": [],
   "source": []
  }
 ],
 "metadata": {
  "kernelspec": {
   "display_name": "Python 3 (ipykernel)",
   "language": "python",
   "name": "python3"
  },
  "language_info": {
   "codemirror_mode": {
    "name": "ipython",
    "version": 3
   },
   "file_extension": ".py",
   "mimetype": "text/x-python",
   "name": "python",
   "nbconvert_exporter": "python",
   "pygments_lexer": "ipython3",
   "version": "3.12.4"
  }
 },
 "nbformat": 4,
 "nbformat_minor": 5
}
