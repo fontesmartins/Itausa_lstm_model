{
 "cells": [
  {
   "cell_type": "markdown",
   "id": "75777ecd-4d93-4426-9bb6-d8874c79bf0e",
   "metadata": {},
   "source": [
    "# Predict D+1 \n",
    "**Obter os últimos 60 fechamentos**"
   ]
  },
  {
   "cell_type": "code",
   "execution_count": 33,
   "id": "4b3e4e19-eb8a-4f34-a977-8773b6a5ae5f",
   "metadata": {},
   "outputs": [
    {
     "name": "stderr",
     "output_type": "stream",
     "text": [
      "/var/folders/nj/4s1r4fw96xjgpdh27hq9g6xr0000gn/T/ipykernel_18810/476225142.py:6: FutureWarning: YF.download() has changed argument auto_adjust default to True\n",
      "  df = yf.download(ticker, period=\"90d\")\n",
      "[*********************100%***********************]  1 of 1 completed"
     ]
    },
    {
     "name": "stdout",
     "output_type": "stream",
     "text": [
      "{'preco_previsto': 10.47, 'tempo_resposta_segundos': 0.1317}\n"
     ]
    },
    {
     "name": "stderr",
     "output_type": "stream",
     "text": [
      "\n"
     ]
    }
   ],
   "source": [
    "import yfinance as yf\n",
    "import requests\n",
    "\n",
    "\n",
    "ticker = \"ITSA4.SA\"\n",
    "df = yf.download(ticker, period=\"90d\")\n",
    "closes = df['Close'].reset_index()[\"ITSA4.SA\"].dropna().to_list()[-60:]\n",
    "\n",
    "### Enviar para a API\n",
    "response = requests.post(\"http://localhost:8000/predict\", json={\"closes\": closes})\n",
    "print(response.json())\n"
   ]
  }
 ],
 "metadata": {
  "kernelspec": {
   "display_name": "Python 3 (ipykernel)",
   "language": "python",
   "name": "python3"
  },
  "language_info": {
   "codemirror_mode": {
    "name": "ipython",
    "version": 3
   },
   "file_extension": ".py",
   "mimetype": "text/x-python",
   "name": "python",
   "nbconvert_exporter": "python",
   "pygments_lexer": "ipython3",
   "version": "3.12.4"
  }
 },
 "nbformat": 4,
 "nbformat_minor": 5
}
